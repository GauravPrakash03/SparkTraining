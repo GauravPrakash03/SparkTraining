{
 "cells": [
  {
   "cell_type": "code",
   "execution_count": 0,
   "metadata": {
    "application/vnd.databricks.v1+cell": {
     "cellMetadata": {
      "byteLimit": 2048000,
      "rowLimit": 10000
     },
     "inputWidgets": {},
     "nuid": "4c430943-725f-48c9-9f11-1ae6ac0d8b59",
     "showTitle": false,
     "tableResultSettingsMap": {},
     "title": ""
    }
   },
   "outputs": [],
   "source": [
    "from pyspark.sql import *\n",
    "from pyspark.sql.functions import *"
   ]
  },
  {
   "cell_type": "code",
   "execution_count": 0,
   "metadata": {
    "application/vnd.databricks.v1+cell": {
     "cellMetadata": {
      "byteLimit": 2048000,
      "rowLimit": 10000
     },
     "inputWidgets": {},
     "nuid": "db079582-dc5c-49c8-b858-2cacfa13e499",
     "showTitle": false,
     "tableResultSettingsMap": {},
     "title": ""
    }
   },
   "outputs": [],
   "source": [
    "raw_fire_df = spark.read \\\n",
    "    .format(\"csv\") \\\n",
    "        .option(\"header\", \"true\") \\\n",
    "            .option(\"inferSchema\", \"true\") \\\n",
    "                .load(\"/databricks-datasets/learning-spark-v2/sf-fire/sf-fire-calls.csv\")"
   ]
  },
  {
   "cell_type": "code",
   "execution_count": 0,
   "metadata": {
    "application/vnd.databricks.v1+cell": {
     "cellMetadata": {
      "byteLimit": 2048000,
      "rowLimit": 10000
     },
     "inputWidgets": {},
     "nuid": "1b317c6c-8b0b-4288-bfc5-17467c4caf7a",
     "showTitle": false,
     "tableResultSettingsMap": {},
     "title": ""
    }
   },
   "outputs": [],
   "source": [
    "raw_fire_df.printSchema()"
   ]
  },
  {
   "cell_type": "code",
   "execution_count": 0,
   "metadata": {
    "application/vnd.databricks.v1+cell": {
     "cellMetadata": {
      "byteLimit": 2048000,
      "rowLimit": 10000
     },
     "inputWidgets": {},
     "nuid": "6aeb048b-6660-45ae-932f-0aee95e5f98a",
     "showTitle": false,
     "tableResultSettingsMap": {},
     "title": ""
    }
   },
   "outputs": [],
   "source": [
    "display(raw_fire_df)"
   ]
  },
  {
   "cell_type": "code",
   "execution_count": 0,
   "metadata": {
    "application/vnd.databricks.v1+cell": {
     "cellMetadata": {
      "byteLimit": 2048000,
      "rowLimit": 10000
     },
     "inputWidgets": {},
     "nuid": "e1f57cb1-17dd-4e21-991b-cf9eb1ecc126",
     "showTitle": false,
     "tableResultSettingsMap": {},
     "title": ""
    }
   },
   "outputs": [],
   "source": [
    "raw_fire_df.createOrReplaceGlobalTempView(\"fire_service_calls_view\")"
   ]
  },
  {
   "cell_type": "code",
   "execution_count": 0,
   "metadata": {
    "application/vnd.databricks.v1+cell": {
     "cellMetadata": {
      "byteLimit": 2048000,
      "implicitDf": true,
      "rowLimit": 10000
     },
     "inputWidgets": {},
     "nuid": "4ac801a7-a180-4e33-8625-019b57dad601",
     "showTitle": false,
     "tableResultSettingsMap": {},
     "title": ""
    }
   },
   "outputs": [],
   "source": [
    "renamed_fire_df = raw_fire_df \\\n",
    "    .withColumnRenamed(\"Call Number\", \"CallNumber\") \\\n",
    "    .withColumnRenamed(\"Unit ID\", \"UnitID\") \\\n",
    "    .withColumnRenamed(\"Incident Number\", \"IncidentNumber\") \\\n",
    "    .withColumnRenamed(\"Call Type\", \"CallType\") \\\n",
    "    .withColumnRenamed(\"Call Date\", \"CallDate\") \\\n",
    "    .withColumnRenamed(\"Watch Date\", \"WatchDate\") \\\n",
    "    .withColumnRenamed(\"Received DtTm\", \"ReceivedDtTm\") \\\n",
    "    .withColumnRenamed(\"Entry DtTm\", \"EntryDtTm\") \\\n",
    "    .withColumnRenamed(\"Dispatch DtTm\", \"DispatchDtTm\") \\\n",
    "    .withColumnRenamed(\"Response DtTm\", \"ResponseDtTm\") \\\n",
    "    .withColumnRenamed(\"On Scene DtTm\", \"OnSceneDtTm\") \\\n",
    "    .withColumnRenamed(\"Transport DtTm\", \"TransportDtTm\") \\\n",
    "    .withColumnRenamed(\"Hospital DtTm\", \"HospitalDtTm\") \\\n",
    "    .withColumnRenamed(\"Call Final Disposition\", \"CallFinalDisposition\") \\\n",
    "    .withColumnRenamed(\"Available DtTm\", \"AvailableDtTm\") \\\n",
    "    .withColumnRenamed(\"Address\", \"Address\") \\\n",
    "    .withColumnRenamed(\"City\", \"City\") \\\n",
    "    .withColumnRenamed(\"Zipcode of Incident\", \"ZipcodeofIncident\") \\\n",
    "    .withColumnRenamed(\"Battalion\", \"Battalion\") \\\n",
    "    .withColumnRenamed(\"Station Area\", \"StationArea\") \\\n",
    "    .withColumnRenamed(\"Box\", \"Box\") \\\n",
    "    .withColumnRenamed(\"Original Priority\", \"OriginalPriority\") \\\n",
    "    .withColumnRenamed(\"Priority\", \"Priority\") \\\n",
    "    .withColumnRenamed(\"Final Priority\", \"FinalPriority\") \\\n",
    "    .withColumnRenamed(\"ALS Unit\", \"ALSUnit\") \\\n",
    "    .withColumnRenamed(\"Call Type Group\", \"CallTypeGroup\") \\\n",
    "    .withColumnRenamed(\"Number of Alarms\", \"NumberofAlarms\") \\\n",
    "    .withColumnRenamed(\"Unit Type\", \"UnitType\") \\\n",
    "    .withColumnRenamed(\"Unit seq in call disp\", \"Unitseqincalldisp\") \\\n",
    "    .withColumnRenamed(\"Fire Prevention District\", \"FirePreventionDistrict\") \\\n",
    "    .withColumnRenamed(\"Supervisor District\", \"SupervisorDistrict\") \\\n",
    "    .withColumnRenamed(\"Neighborhoods - Analysis Boundaries\", \"AnalysisBoundaries\") \\\n",
    "    .withColumnRenamed(\"RowID\", \"RowID\") \\\n",
    "    .withColumnRenamed(\"case_location\", \"caselocation\") \\\n",
    "    .withColumnRenamed(\"data_as_of\", \"dataasof\") \\\n",
    "    .withColumnRenamed(\"data_loaded_at\", \"dataloadedat\")"
   ]
  },
  {
   "cell_type": "code",
   "execution_count": 0,
   "metadata": {
    "application/vnd.databricks.v1+cell": {
     "cellMetadata": {
      "byteLimit": 2048000,
      "rowLimit": 10000
     },
     "inputWidgets": {},
     "nuid": "0c90a0a9-57d8-4e20-bec7-f582b611d8d1",
     "showTitle": false,
     "tableResultSettingsMap": {},
     "title": ""
    }
   },
   "outputs": [],
   "source": [
    "renamed_fire_df.printSchema()"
   ]
  },
  {
   "cell_type": "code",
   "execution_count": 0,
   "metadata": {
    "application/vnd.databricks.v1+cell": {
     "cellMetadata": {
      "byteLimit": 2048000,
      "rowLimit": 10000
     },
     "inputWidgets": {},
     "nuid": "29f6a07b-294d-49c7-bd40-6dba7949aad3",
     "showTitle": false,
     "tableResultSettingsMap": {},
     "title": ""
    }
   },
   "outputs": [],
   "source": [
    "display(renamed_fire_df)"
   ]
  },
  {
   "cell_type": "code",
   "execution_count": 0,
   "metadata": {
    "application/vnd.databricks.v1+cell": {
     "cellMetadata": {
      "byteLimit": 2048000,
      "rowLimit": 10000
     },
     "inputWidgets": {},
     "nuid": "d105617f-12ff-455e-9b37-b6e4c6bfe606",
     "showTitle": false,
     "tableResultSettingsMap": {},
     "title": ""
    }
   },
   "outputs": [],
   "source": [
    "fire_df = renamed_fire_df \\\n",
    "    .withColumn(\"CallDate\",to_date(\"CallDate\", \"mm/dd/yyyy\")) \\\n",
    "    .withColumn(\"WatchDate\",to_date(\"WatchDate\", \"mm/dd/yyyy\")) \\\n",
    "    .withColumn(\"AvailableDtTm\",to_timestamp(\"AvailableDtTm\", \"mm/dd/yyyy hh:mm:ss a\")) \\\n",
    "    .withColumn(\"Delay\",round(\"Delay\",2)) \\\n",
    "        .withColumn(\"CallYear\",year(\"CallDate\"))\n",
    "display(fire_df)"
   ]
  },
  {
   "cell_type": "code",
   "execution_count": 0,
   "metadata": {
    "application/vnd.databricks.v1+cell": {
     "cellMetadata": {
      "byteLimit": 2048000,
      "rowLimit": 10000
     },
     "inputWidgets": {},
     "nuid": "81ce3301-cca4-4f5f-abd3-686e18204b8a",
     "showTitle": false,
     "tableResultSettingsMap": {},
     "title": ""
    }
   },
   "outputs": [],
   "source": [
    "fire_df.printSchema()"
   ]
  },
  {
   "cell_type": "code",
   "execution_count": 0,
   "metadata": {
    "application/vnd.databricks.v1+cell": {
     "cellMetadata": {
      "byteLimit": 2048000,
      "rowLimit": 10000
     },
     "inputWidgets": {},
     "nuid": "94d85d23-e9c6-4aae-ae8d-c73034b7abaf",
     "showTitle": false,
     "tableResultSettingsMap": {},
     "title": ""
    }
   },
   "outputs": [],
   "source": [
    "fire_df.cache()"
   ]
  },
  {
   "cell_type": "markdown",
   "metadata": {
    "application/vnd.databricks.v1+cell": {
     "cellMetadata": {},
     "inputWidgets": {},
     "nuid": "01e48003-b4f1-4fde-b697-bb48db2dcb0d",
     "showTitle": false,
     "tableResultSettingsMap": {},
     "title": ""
    }
   },
   "source": [
    "#### Q1. How many distinct types of calls were made to the Fire Department?\n",
    "select count(distinct CallType) as distinct_call_type_count\n",
    "from fire_service_calls_tbl\n",
    "where CallType is not null"
   ]
  },
  {
   "cell_type": "code",
   "execution_count": 0,
   "metadata": {
    "application/vnd.databricks.v1+cell": {
     "cellMetadata": {
      "byteLimit": 2048000,
      "rowLimit": 10000
     },
     "inputWidgets": {},
     "nuid": "ab31fc3f-78ad-455d-ab71-c035ae027b3a",
     "showTitle": false,
     "tableResultSettingsMap": {},
     "title": ""
    }
   },
   "outputs": [],
   "source": [
    "fire_df.createOrReplaceTempView(\"fire_service_calls_view\")\n",
    "q1_sql_df = spark.sql(\"\"\"\n",
    "        select count(distinct CallType) as distinct_call_type_count\n",
    "        from fire_service_calls_view\n",
    "        where CallType is not null\n",
    "        \"\"\")\n",
    "display(q1_sql_df)"
   ]
  },
  {
   "cell_type": "code",
   "execution_count": 0,
   "metadata": {
    "application/vnd.databricks.v1+cell": {
     "cellMetadata": {
      "byteLimit": 2048000,
      "rowLimit": 10000
     },
     "inputWidgets": {},
     "nuid": "f7171569-3d51-4a85-bc1b-de119b84801a",
     "showTitle": false,
     "tableResultSettingsMap": {},
     "title": ""
    }
   },
   "outputs": [],
   "source": [
    "spark.conf.set(\"spark.sql.legacy.timeParserPolicy\",\"LEGACY\")"
   ]
  },
  {
   "cell_type": "code",
   "execution_count": 0,
   "metadata": {
    "application/vnd.databricks.v1+cell": {
     "cellMetadata": {
      "byteLimit": 2048000,
      "rowLimit": 10000
     },
     "inputWidgets": {},
     "nuid": "12da4fb9-2e65-40b6-a6ec-1c0461639ea7",
     "showTitle": false,
     "tableResultSettingsMap": {},
     "title": ""
    }
   },
   "outputs": [],
   "source": [
    "q1_fire_df = fire_df.where(\"CallType is not null\") \\\n",
    "    .select(expr(\"CallType as dist_call_type\")) \\\n",
    "        .distinct()\n",
    "q1_fire_df.count()"
   ]
  },
  {
   "cell_type": "markdown",
   "metadata": {
    "application/vnd.databricks.v1+cell": {
     "cellMetadata": {},
     "inputWidgets": {},
     "nuid": "23b9b7e5-1e46-4d1e-80a1-8ac947119dc9",
     "showTitle": false,
     "tableResultSettingsMap": {},
     "title": ""
    }
   },
   "source": [
    "#### Q2. What were distinct types of calls made to the Fire Department?\n",
    "select distinct CallType as distinct_call_types\n",
    "from fire_service_calls_tbl\n",
    "where CallType is not null"
   ]
  },
  {
   "cell_type": "code",
   "execution_count": 0,
   "metadata": {
    "application/vnd.databricks.v1+cell": {
     "cellMetadata": {
      "byteLimit": 2048000,
      "rowLimit": 10000
     },
     "inputWidgets": {},
     "nuid": "557f3e1d-52b4-460c-99fc-d2af044e239b",
     "showTitle": false,
     "tableResultSettingsMap": {},
     "title": ""
    }
   },
   "outputs": [],
   "source": [
    "q2_fire_df = fire_df.where(\"CallType is not null\") \\\n",
    "    .select(\"CallType\") \\\n",
    "    .distinct()\n",
    "display(q2_fire_df.show())"
   ]
  },
  {
   "cell_type": "markdown",
   "metadata": {
    "application/vnd.databricks.v1+cell": {
     "cellMetadata": {},
     "inputWidgets": {},
     "nuid": "07f524ad-0634-48fd-ae5d-e59e8889cac7",
     "showTitle": false,
     "tableResultSettingsMap": {},
     "title": ""
    }
   },
   "source": [
    "#### Q3. Find out all response for delayed times greater than 5 mins?\n",
    "select CallNumber, Delay\n",
    "from fire_service_calls_tbl\n",
    "where Delay > 5"
   ]
  },
  {
   "cell_type": "code",
   "execution_count": 0,
   "metadata": {
    "application/vnd.databricks.v1+cell": {
     "cellMetadata": {
      "byteLimit": 2048000,
      "rowLimit": 10000
     },
     "inputWidgets": {},
     "nuid": "3cb93b67-5a0b-4e63-aa39-5b1250d8a051",
     "showTitle": false,
     "tableResultSettingsMap": {},
     "title": ""
    }
   },
   "outputs": [],
   "source": [
    "q3_fire_df = fire_df.filter(fire_df.Delay > 5) \\\n",
    "    .where(\"CallType is not null\") \\\n",
    "    .select(\"CallNumber\", \"Delay\") \\\n",
    "        .orderBy(\"Delay\", ascending=False)\n",
    "display(q3_fire_df.show())"
   ]
  },
  {
   "cell_type": "markdown",
   "metadata": {
    "application/vnd.databricks.v1+cell": {
     "cellMetadata": {},
     "inputWidgets": {},
     "nuid": "7b0e788b-2392-41d4-8729-a6097d822c57",
     "showTitle": false,
     "tableResultSettingsMap": {},
     "title": ""
    }
   },
   "source": [
    "#### Q4. What were the most common call types?\n",
    "select CallType, count(*) as count\n",
    "from fire_service_calls_tbl\n",
    "where CallType is not null\n",
    "group by CallType\n",
    "order by count desc"
   ]
  },
  {
   "cell_type": "code",
   "execution_count": 0,
   "metadata": {
    "application/vnd.databricks.v1+cell": {
     "cellMetadata": {
      "byteLimit": 2048000,
      "rowLimit": 10000
     },
     "inputWidgets": {},
     "nuid": "068616ef-fda4-41e9-b879-014772855d17",
     "showTitle": false,
     "tableResultSettingsMap": {},
     "title": ""
    }
   },
   "outputs": [],
   "source": [
    "q4_fire_df = fire_df.where(\"CallType is not null\") \\\n",
    "    .select(\"CallType\") \\\n",
    "        .groupBy(\"CallType\") \\\n",
    "            .count() \\\n",
    "                .orderBy(\"count\", ascending=False)\n",
    "display(q4_fire_df.show())"
   ]
  },
  {
   "cell_type": "markdown",
   "metadata": {
    "application/vnd.databricks.v1+cell": {
     "cellMetadata": {},
     "inputWidgets": {},
     "nuid": "63ad6a5e-ea36-423d-b3ca-cb308802e166",
     "showTitle": false,
     "tableResultSettingsMap": {},
     "title": ""
    }
   },
   "source": [
    "#### Q5. What zip codes accounted for most common calls?\n",
    "select CallType, ZipCode, count(*) as count\n",
    "from fire_service_calls_tbl\n",
    "where CallType is not null\n",
    "group by CallType, Zipcode\n",
    "order by count desc"
   ]
  },
  {
   "cell_type": "code",
   "execution_count": 0,
   "metadata": {
    "application/vnd.databricks.v1+cell": {
     "cellMetadata": {
      "byteLimit": 2048000,
      "rowLimit": 10000
     },
     "inputWidgets": {},
     "nuid": "5f046361-ed53-4b29-bb00-037800a20536",
     "showTitle": false,
     "tableResultSettingsMap": {},
     "title": ""
    }
   },
   "outputs": [],
   "source": [
    "q5_fire_df = fire_df.where(\"CallType is not null\") \\\n",
    "    .select(\"CallType\", \"ZipcodeofIncident\") \\\n",
    "        .groupBy(\"CallType\", \"ZipcodeofIncident\") \\\n",
    "            .count() \\\n",
    "                .orderBy(\"count\", ascending=False)\n",
    "display(q5_fire_df.show())"
   ]
  },
  {
   "cell_type": "markdown",
   "metadata": {
    "application/vnd.databricks.v1+cell": {
     "cellMetadata": {},
     "inputWidgets": {},
     "nuid": "c8ea1ea6-14aa-451a-ab58-e938965616f6",
     "showTitle": false,
     "tableResultSettingsMap": {},
     "title": ""
    }
   },
   "source": [
    "#### Q6. What San Francisco neighborhoods are in the zip codes 94102 and 94103\n",
    "select distinct Neighborhood, Zipcode\n",
    "from fire_service_calls_tbl\n",
    "where Zipcode== 94102 or Zipcode == 94103"
   ]
  },
  {
   "cell_type": "code",
   "execution_count": 0,
   "metadata": {
    "application/vnd.databricks.v1+cell": {
     "cellMetadata": {
      "byteLimit": 2048000,
      "rowLimit": 10000
     },
     "inputWidgets": {},
     "nuid": "be2b69a2-6606-4def-bb29-7f07ba3bea89",
     "showTitle": false,
     "tableResultSettingsMap": {},
     "title": ""
    }
   },
   "outputs": [],
   "source": [
    "q6_fire_df = fire_df.where(\"ZipcodeofIncident == '94102' or ZipcodeofIncident == '94103'\") \\\n",
    "    .select(\"Neighborhood\", \"ZipcodeofIncident\").distinct()\n",
    "display(q6_fire_df.show())"
   ]
  },
  {
   "cell_type": "markdown",
   "metadata": {
    "application/vnd.databricks.v1+cell": {
     "cellMetadata": {},
     "inputWidgets": {},
     "nuid": "c656f412-5b7f-4536-9073-a3c1699ee424",
     "showTitle": false,
     "tableResultSettingsMap": {},
     "title": ""
    }
   },
   "source": [
    "#### Q7. What was the sum of all calls, average, min and max of the response times for calls?\n",
    "select sum(NumAlarms), avg(Delay), min(Delay), max(Delay)\n",
    "from fire_service_calls_tbl"
   ]
  },
  {
   "cell_type": "code",
   "execution_count": 0,
   "metadata": {
    "application/vnd.databricks.v1+cell": {
     "cellMetadata": {
      "byteLimit": 2048000,
      "rowLimit": 10000
     },
     "inputWidgets": {},
     "nuid": "bfbefdab-403c-4659-9fc5-959cf9268886",
     "showTitle": false,
     "tableResultSettingsMap": {},
     "title": ""
    }
   },
   "outputs": [],
   "source": [
    "q7_fire_df = fire_df.where(\"CallType is not null\") \\\n",
    "    .select(sum(\"NumAlarms\"), avg(\"Delay\"), min(\"Delay\"), max(\"Delay\"))\n",
    "display(q7_fire_df.show())"
   ]
  },
  {
   "cell_type": "markdown",
   "metadata": {
    "application/vnd.databricks.v1+cell": {
     "cellMetadata": {},
     "inputWidgets": {},
     "nuid": "41ff81d9-484a-4242-a72c-b1d349a61924",
     "showTitle": false,
     "tableResultSettingsMap": {},
     "title": ""
    }
   },
   "source": [
    "#### Q8. How many distinct years of data is in the CSV file?\n",
    "select distinct year(to_timestamp(CallDate, \"MM/dd/yyyy\")) as year_num\n",
    "from fire_service_calls_tbl\n",
    "order by year_num"
   ]
  },
  {
   "cell_type": "code",
   "execution_count": 0,
   "metadata": {
    "application/vnd.databricks.v1+cell": {
     "cellMetadata": {
      "byteLimit": 2048000,
      "rowLimit": 10000
     },
     "inputWidgets": {},
     "nuid": "161ff320-1c65-40ee-b339-a1bd4bcb9c33",
     "showTitle": false,
     "tableResultSettingsMap": {},
     "title": ""
    }
   },
   "outputs": [],
   "source": [
    "q8_fire_df = fire_df.where(\"CallDate is not null\") \\\n",
    "    .select(year(\"CallDate\").alias(\"CallYear\")).distinct() \\\n",
    "        .orderBy(\"CallYear\", ascending = False)\n",
    "display(q8_fire_df.show())"
   ]
  },
  {
   "cell_type": "markdown",
   "metadata": {
    "application/vnd.databricks.v1+cell": {
     "cellMetadata": {},
     "inputWidgets": {},
     "nuid": "a3cdb290-2d29-492d-baab-c2c5d5cef1ba",
     "showTitle": false,
     "tableResultSettingsMap": {},
     "title": ""
    }
   },
   "source": [
    "#### Q9. What week of the year in 2018 had the most fire calls?\n",
    "select weekofyear(to_timestamp(CallDate, \"MM/dd/yyyy\")) week_year, count(*) as count\n",
    "from fire_service_calls_tbl \n",
    "where year(to_timestamp(CallDate, \"MM/dd/yyyy\")) == 2018\n",
    "group by week_year\n",
    "order by count desc"
   ]
  },
  {
   "cell_type": "code",
   "execution_count": 0,
   "metadata": {
    "application/vnd.databricks.v1+cell": {
     "cellMetadata": {
      "byteLimit": 2048000,
      "rowLimit": 10000
     },
     "inputWidgets": {},
     "nuid": "e743dcb3-5523-4a72-839a-77061444255d",
     "showTitle": false,
     "tableResultSettingsMap": {},
     "title": ""
    }
   },
   "outputs": [],
   "source": [
    "q9_fire_df = fire_df.filter(fire_df[\"CallYear\"] == 2018) \\\n",
    "    .where(\"CallType is not null\") \\\n",
    "        .select(\"CallYear\",weekofyear(\"CallDate\").alias(\"CallWeek\")) \\\n",
    "            .groupBy(\"CallYear\",\"CallWeek\") \\\n",
    "                .count() \\\n",
    "                    .orderBy(\"count\", ascending = False)\n",
    "display(q9_fire_df)"
   ]
  },
  {
   "cell_type": "markdown",
   "metadata": {
    "application/vnd.databricks.v1+cell": {
     "cellMetadata": {},
     "inputWidgets": {},
     "nuid": "1c937475-9774-4bf2-9b0e-0e276cc7402d",
     "showTitle": false,
     "tableResultSettingsMap": {},
     "title": ""
    }
   },
   "source": [
    "#### Q10. What neighborhoods in San Francisco had the worst response time in 2018?\n",
    "select Neighborhood, Delay\n",
    "from fire_service_calls_tbl \n",
    "where year(to_timestamp(CallDate, \"MM/dd/yyyy\")) == 2018\n",
    "group by Neighborhood, Delay\n",
    "order by Delay desc"
   ]
  },
  {
   "cell_type": "code",
   "execution_count": 0,
   "metadata": {
    "application/vnd.databricks.v1+cell": {
     "cellMetadata": {
      "byteLimit": 2048000,
      "rowLimit": 10000
     },
     "inputWidgets": {},
     "nuid": "7750d173-8c90-4a07-89b0-84389b620fc7",
     "showTitle": false,
     "tableResultSettingsMap": {},
     "title": ""
    }
   },
   "outputs": [],
   "source": [
    "q10_fire_df = fire_df.filter(fire_df[\"CallYear\"] == 2018) \\\n",
    "    .where(\"CallType is not null\") \\\n",
    "        .select(\"Neighborhood\",\"Delay\") \\\n",
    "            .orderBy(\"Delay\", ascending = False)\n",
    "display(q10_fire_df)"
   ]
  }
 ],
 "metadata": {
  "application/vnd.databricks.v1+notebook": {
   "computePreferences": null,
   "dashboards": [],
   "environmentMetadata": {
    "base_environment": "",
    "environment_version": "1"
   },
   "inputWidgetPreferences": null,
   "language": "python",
   "notebookMetadata": {
    "mostRecentlyExecutedCommandWithImplicitDF": {
     "commandId": -1,
     "dataframes": [
      "_sqldf"
     ]
    },
    "pythonIndentUnit": 4
   },
   "notebookName": "01-spark-dataframe-demo",
   "widgets": {}
  }
 },
 "nbformat": 4,
 "nbformat_minor": 0
}