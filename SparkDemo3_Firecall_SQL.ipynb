#%% sql
create table fire_service_calls select * from