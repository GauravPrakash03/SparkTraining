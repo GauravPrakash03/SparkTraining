{
 "cells": [
  {
   "cell_type": "code",
   "id": "initial_id",
   "metadata": {
    "collapsed": true,
    "ExecuteTime": {
     "end_time": "2025-05-19T18:54:14.154643Z",
     "start_time": "2025-05-19T18:54:09.714062Z"
    }
   },
   "source": [
    "from pyspark.sql import *\n",
    "spark = SparkSession.builder \\\n",
    "        .appName(\"HelloSpark\") \\\n",
    "        .master(\"local[2]\") \\\n",
    "        .getOrCreate()"
   ],
   "outputs": [],
   "execution_count": 7
  },
  {
   "metadata": {
    "ExecuteTime": {
     "end_time": "2025-05-19T18:54:33.913752Z",
     "start_time": "2025-05-19T18:54:33.213921Z"
    }
   },
   "cell_type": "code",
   "source": [
    "fire_df = spark.read \\\n",
    "    .format(\"csv\") \\\n",
    "    .option(\"header\", \"true\") \\\n",
    "    .option(\"inferSchema\", \"true\") \\\n",
    "    .load(\"C:/Gaurav_Prakash/Spark_Demo/datasets/sf-fire-calls.csv\")"
   ],
   "id": "92d7bc0099336a2c",
   "outputs": [],
   "execution_count": 9
  },
  {
   "metadata": {
    "ExecuteTime": {
     "end_time": "2025-05-19T18:54:48.599465Z",
     "start_time": "2025-05-19T18:54:48.593085Z"
    }
   },
   "cell_type": "code",
   "source": "fire_df.printSchema()",
   "id": "8c145adc43597a87",
   "outputs": [
    {
     "name": "stdout",
     "output_type": "stream",
     "text": [
      "root\n",
      " |-- Call Number: integer (nullable = true)\n",
      " |-- Unit ID: string (nullable = true)\n",
      " |-- Incident Number: integer (nullable = true)\n",
      " |-- Call Type: string (nullable = true)\n",
      " |-- Call Date: string (nullable = true)\n",
      " |-- Watch Date: string (nullable = true)\n",
      " |-- Received DtTm: string (nullable = true)\n",
      " |-- Entry DtTm: string (nullable = true)\n",
      " |-- Dispatch DtTm: string (nullable = true)\n",
      " |-- Response DtTm: string (nullable = true)\n",
      " |-- On Scene DtTm: string (nullable = true)\n",
      " |-- Transport DtTm: string (nullable = true)\n",
      " |-- Hospital DtTm: string (nullable = true)\n",
      " |-- Call Final Disposition: string (nullable = true)\n",
      " |-- Available DtTm: string (nullable = true)\n",
      " |-- Address: string (nullable = true)\n",
      " |-- City: string (nullable = true)\n",
      " |-- Zipcode of Incident: double (nullable = true)\n",
      " |-- Battalion: string (nullable = true)\n",
      " |-- Station Area: integer (nullable = true)\n",
      " |-- Box: integer (nullable = true)\n",
      " |-- Original Priority: string (nullable = true)\n",
      " |-- Priority: string (nullable = true)\n",
      " |-- Final Priority: integer (nullable = true)\n",
      " |-- ALS Unit: boolean (nullable = true)\n",
      " |-- Call Type Group: string (nullable = true)\n",
      " |-- Number of Alarms: integer (nullable = true)\n",
      " |-- Unit Type: string (nullable = true)\n",
      " |-- Unit sequence in call dispatch: integer (nullable = true)\n",
      " |-- Fire Prevention District: string (nullable = true)\n",
      " |-- Supervisor District: string (nullable = true)\n",
      " |-- Neighborhooods - Analysis Boundaries: string (nullable = true)\n",
      " |-- RowID: string (nullable = true)\n",
      " |-- case_location: string (nullable = true)\n",
      " |-- data_as_of: string (nullable = true)\n",
      " |-- data_loaded_at: string (nullable = true)\n",
      "\n"
     ]
    }
   ],
   "execution_count": 11
  },
  {
   "metadata": {
    "ExecuteTime": {
     "end_time": "2025-05-19T18:55:03.565307Z",
     "start_time": "2025-05-19T18:55:03.315220Z"
    }
   },
   "cell_type": "code",
   "source": "fire_df.count()",
   "id": "c68d3149646860b9",
   "outputs": [
    {
     "data": {
      "text/plain": [
       "77869"
      ]
     },
     "execution_count": 13,
     "metadata": {},
     "output_type": "execute_result"
    }
   ],
   "execution_count": 13
  },
  {
   "metadata": {
    "ExecuteTime": {
     "end_time": "2025-05-19T19:03:12.100011Z",
     "start_time": "2025-05-19T19:03:11.636974Z"
    }
   },
   "cell_type": "code",
   "source": "display(fire_df.show(10))",
   "id": "950962f7bebc15c5",
   "outputs": [
    {
     "name": "stdout",
     "output_type": "stream",
     "text": [
      "+-----------+-------+---------------+----------------+----------+----------+--------------------+--------------------+--------------------+--------------------+--------------------+--------------------+--------------------+----------------------+--------------------+--------------------+-------------+-------------------+---------+------------+----+-----------------+--------+--------------+--------+--------------------+----------------+---------+------------------------------+------------------------+-------------------+------------------------------------+---------------+--------------------+--------------------+--------------------+\n",
      "|Call Number|Unit ID|Incident Number|       Call Type| Call Date|Watch Date|       Received DtTm|          Entry DtTm|       Dispatch DtTm|       Response DtTm|       On Scene DtTm|      Transport DtTm|       Hospital DtTm|Call Final Disposition|      Available DtTm|             Address|         City|Zipcode of Incident|Battalion|Station Area| Box|Original Priority|Priority|Final Priority|ALS Unit|     Call Type Group|Number of Alarms|Unit Type|Unit sequence in call dispatch|Fire Prevention District|Supervisor District|Neighborhooods - Analysis Boundaries|          RowID|       case_location|          data_as_of|      data_loaded_at|\n",
      "+-----------+-------+---------------+----------------+----------+----------+--------------------+--------------------+--------------------+--------------------+--------------------+--------------------+--------------------+----------------------+--------------------+--------------------+-------------+-------------------+---------+------------+----+-----------------+--------+--------------+--------+--------------------+----------------+---------+------------------------------+------------------------+-------------------+------------------------------------+---------------+--------------------+--------------------+--------------------+\n",
      "|  250600002|  CPLOG|       25031977|           Other|03/01/2025|02/28/2025|03/01/2025 12:00:...|03/01/2025 12:00:...|03/01/2025 12:00:...|03/01/2025 12:00:...|03/01/2025 12:00:...|03/01/2025 12:00:...|                NULL|                 Other|03/02/2025 12:00:...|CALL BOX: 6TH ST/...|San Francisco|            94103.0|      B03|           1|2251|                1|       1|             2|   false|                NULL|               1|       CP|                             1|                       3|                  6|                     South of Market|250600002-CPLOG|POINT (-122.40874...|03/02/2025 03:31:...|03/07/2025 04:20:...|\n",
      "|  250600006|    E01|       25031978|Medical Incident|03/01/2025|02/28/2025|03/01/2025 12:01:...|03/01/2025 12:01:...|03/01/2025 12:01:...|03/01/2025 12:02:...|03/01/2025 12:05:...|                NULL|                NULL|      Code 2 Transport|03/01/2025 12:09:...|CALL BOX: 5TH ST/...|San Francisco|            94103.0|      B03|           1|2246|                B|       3|             3|    true|Potentially Life-...|               1|   ENGINE|                             1|                       3|                  6|                     South of Market|  250600006-E01|POINT (-122.40651...|03/01/2025 03:25:...|03/07/2025 04:20:...|\n",
      "|  250600006|  SORT2|       25031978|Medical Incident|03/01/2025|02/28/2025|03/01/2025 12:01:...|03/01/2025 12:01:...|03/01/2025 12:19:...|03/01/2025 12:19:...|                NULL|                NULL|                NULL|      Code 2 Transport|03/01/2025 12:47:...|CALL BOX: 5TH ST/...|San Francisco|            94103.0|      B03|           1|2246|                B|       3|             3|   false|Potentially Life-...|               1|       CP|                             3|                       3|                  6|                     South of Market|250600006-SORT2|POINT (-122.40651...|03/01/2025 03:25:...|03/07/2025 04:20:...|\n",
      "|  250600006|   M510|       25031978|Medical Incident|03/01/2025|02/28/2025|03/01/2025 12:01:...|03/01/2025 12:01:...|03/01/2025 12:01:...|03/01/2025 12:01:...|03/01/2025 12:05:...|03/01/2025 12:17:...|03/01/2025 12:34:...|      Code 2 Transport|03/01/2025 01:12:...|CALL BOX: 5TH ST/...|San Francisco|            94103.0|      B03|           1|2246|                B|       3|             3|    true|Potentially Life-...|               1|    MEDIC|                             2|                       3|                  6|                     South of Market| 250600006-M510|POINT (-122.40651...|03/01/2025 03:25:...|03/07/2025 04:20:...|\n",
      "|  250600012|  AM116|       25031979|Medical Incident|03/01/2025|02/28/2025|03/01/2025 12:05:...|03/01/2025 12:06:...|03/01/2025 12:06:...|03/01/2025 12:07:...|03/01/2025 12:11:...|03/01/2025 12:19:...|03/01/2025 12:26:...|      Code 3 Transport|03/01/2025 01:20:...|BACON ST/HAMILTON ST|San Francisco|            94134.0|      B10|          42|6335|                3|       3|             3|   false|Potentially Life-...|               1|  PRIVATE|                             2|                       9|                  9|                             Portola|250600012-AM116|POINT (-122.40952...|03/01/2025 03:25:...|03/07/2025 04:20:...|\n",
      "|  250600012|    E42|       25031979|Medical Incident|03/01/2025|02/28/2025|03/01/2025 12:05:...|03/01/2025 12:06:...|03/01/2025 12:06:...|03/01/2025 12:08:...|03/01/2025 12:11:...|                NULL|                NULL|      Code 3 Transport|03/01/2025 12:20:...|BACON ST/HAMILTON ST|San Francisco|            94134.0|      B10|          42|6335|                3|       3|             3|    true|Potentially Life-...|               1|   ENGINE|                             1|                       9|                  9|                             Portola|  250600012-E42|POINT (-122.40952...|03/01/2025 03:25:...|03/07/2025 04:20:...|\n",
      "|  250600016|    B03|       25031980|          Alarms|03/01/2025|02/28/2025|03/01/2025 12:07:...|03/01/2025 12:09:...|03/01/2025 12:09:...|03/01/2025 12:10:...|03/01/2025 12:12:...|                NULL|                NULL|                  Fire|03/01/2025 12:18:...|    04TH ST/BERRY ST|San Francisco|            94158.0|      B03|           8|2225|                3|       3|             3|   false|               Alarm|               1|    CHIEF|                             1|                       3|                  6|                         Mission Bay|  250600016-B03|POINT (-122.39335...|03/01/2025 03:25:...|03/07/2025 04:20:...|\n",
      "|  250600016|    E08|       25031980|          Alarms|03/01/2025|02/28/2025|03/01/2025 12:07:...|03/01/2025 12:09:...|03/01/2025 12:09:...|03/01/2025 12:11:...|03/01/2025 12:13:...|                NULL|                NULL|                  Fire|03/01/2025 12:19:...|    04TH ST/BERRY ST|San Francisco|            94158.0|      B03|           8|2225|                3|       3|             3|    true|               Alarm|               1|   ENGINE|                             2|                       3|                  6|                         Mission Bay|  250600016-E08|POINT (-122.39335...|03/01/2025 03:25:...|03/07/2025 04:20:...|\n",
      "|  250600016|    T08|       25031980|          Alarms|03/01/2025|02/28/2025|03/01/2025 12:07:...|03/01/2025 12:09:...|03/01/2025 12:09:...|03/01/2025 12:11:...|03/01/2025 12:14:...|                NULL|                NULL|                  Fire|03/01/2025 12:20:...|    04TH ST/BERRY ST|San Francisco|            94158.0|      B03|           8|2225|                3|       3|             3|   false|               Alarm|               1|    TRUCK|                             3|                       3|                  6|                         Mission Bay|  250600016-T08|POINT (-122.39335...|03/01/2025 03:25:...|03/07/2025 04:20:...|\n",
      "|  250600024|  KM103|       25031981|Medical Incident|03/01/2025|02/28/2025|03/01/2025 12:11:...|03/01/2025 12:13:...|03/01/2025 12:13:...|03/01/2025 12:14:...|03/01/2025 12:20:...|03/01/2025 12:35:...|03/01/2025 12:54:...|      Code 2 Transport|03/01/2025 01:47:...|    05TH ST/CLARA ST|San Francisco|            94107.0|      B03|           1|2243|                3|       3|             3|   false|Potentially Life-...|               1|  PRIVATE|                             2|                       3|                  6|                     South of Market|250600024-KM103|POINT (-122.40237...|03/01/2025 03:25:...|03/07/2025 04:20:...|\n",
      "+-----------+-------+---------------+----------------+----------+----------+--------------------+--------------------+--------------------+--------------------+--------------------+--------------------+--------------------+----------------------+--------------------+--------------------+-------------+-------------------+---------+------------+----+-----------------+--------+--------------+--------+--------------------+----------------+---------+------------------------------+------------------------+-------------------+------------------------------------+---------------+--------------------+--------------------+--------------------+\n",
      "only showing top 10 rows\n",
      "\n"
     ]
    },
    {
     "data": {
      "text/plain": [
       "None"
      ]
     },
     "metadata": {},
     "output_type": "display_data"
    }
   ],
   "execution_count": 16
  },
  {
   "metadata": {
    "ExecuteTime": {
     "end_time": "2025-05-19T19:16:09.308510Z",
     "start_time": "2025-05-19T19:16:09.288807Z"
    }
   },
   "cell_type": "code",
   "source": "fire_df.createOrReplaceGlobalTempView(\"fire_service_calls_view_gp\")",
   "id": "809f590217428f05",
   "outputs": [],
   "execution_count": 39
  },
  {
   "metadata": {
    "SqlCellData": {
     "variableName$1": "df_sql1"
    }
   },
   "cell_type": "code",
   "source": [
    "%%sql\n",
    "select count(*) from global_temp.fire_service_calls_view_gp;"
   ],
   "id": "670e35592ee97a91",
   "outputs": [],
   "execution_count": null
  }
 ],
 "metadata": {
  "kernelspec": {
   "display_name": "Python 3",
   "language": "python",
   "name": "python3"
  },
  "language_info": {
   "codemirror_mode": {
    "name": "ipython",
    "version": 2
   },
   "file_extension": ".py",
   "mimetype": "text/x-python",
   "name": "python",
   "nbconvert_exporter": "python",
   "pygments_lexer": "ipython2",
   "version": "2.7.6"
  }
 },
 "nbformat": 4,
 "nbformat_minor": 5
}
